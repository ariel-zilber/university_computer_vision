{
 "cells": [
  {
   "cell_type": "markdown",
   "source": [
    "# k-Nearest Neighbor (kNN) exercise\n",
    "-   Binary digit learning using  VGG16 in order to\n",
    "    get features from mnist images of 0/1\n",
    "-   Use nearest neighbor to classify"
   ],
   "metadata": {
    "collapsed": false
   }
  },
  {
   "cell_type": "markdown",
   "source": [
    "**Run some setup code for this notebook.**"
   ],
   "metadata": {
    "collapsed": false,
    "pycharm": {
     "name": "#%% md\n"
    }
   }
  },
  {
   "cell_type": "code",
   "execution_count": 5,
   "outputs": [],
   "source": [
    "# Required imports\n",
    "import numpy as np\n",
    "from sklearn.neighbors import KNeighborsClassifier\n",
    "from KNNeighbors import KNearestNeighbor\n",
    "from data_utils import load_MNIST, normalize_dataset\n",
    "import matplotlib.pyplot as plt\n",
    "from feature_extractor import FeatureExtractor\n",
    "from sklearn.metrics import accuracy_score"
   ],
   "metadata": {
    "collapsed": false,
    "pycharm": {
     "name": "#%%\n"
    }
   }
  },
  {
   "cell_type": "markdown",
   "source": [
    "**Required constants**"
   ],
   "metadata": {
    "collapsed": false
   }
  },
  {
   "cell_type": "code",
   "execution_count": 6,
   "outputs": [],
   "source": [
    "IMG_ROWS, IMG_COLS = 28, 28\n",
    "BATCH_SIZE = 128\n",
    "NUM_CLASS = 2\n",
    "EPOCHS = 5\n",
    "CHANNELS=1\n",
    "FEATURES_LAYERS=13"
   ],
   "metadata": {
    "collapsed": false,
    "pycharm": {
     "name": "#%%\n"
    }
   }
  },
  {
   "cell_type": "markdown",
   "source": [
    "**Load mnist dataset**"
   ],
   "metadata": {
    "collapsed": false
   }
  },
  {
   "cell_type": "code",
   "execution_count": 7,
   "outputs": [],
   "source": [
    "(x_train, y_train), (x_test, y_test) =load_MNIST()\n"
   ],
   "metadata": {
    "collapsed": false,
    "pycharm": {
     "name": "#%%\n"
    }
   }
  },
  {
   "cell_type": "markdown",
   "source": [
    "**Display example data**"
   ],
   "metadata": {
    "collapsed": false
   }
  },
  {
   "cell_type": "code",
   "execution_count": 8,
   "outputs": [
    {
     "data": {
      "text/plain": "<Figure size 432x288 with 14 Axes>",
      "image/png": "[encoded data removed]"
     },
     "metadata": {
      "needs_background": "light"
     },
     "output_type": "display_data"
    }
   ],
   "source": [
    "classes = ['0', '1']\n",
    "num_classes = len(classes)\n",
    "samples_per_class = 7\n",
    "for y, cls in enumerate(classes):\n",
    "    idxs = np.flatnonzero(y_train == y)\n",
    "    idxs = np.random.choice(idxs, samples_per_class, replace=False)\n",
    "    for i, idx in enumerate(idxs):\n",
    "        plt_idx = i * num_classes + y + 1\n",
    "        plt.subplot(samples_per_class, num_classes, plt_idx)\n",
    "        plt.imshow(x_train[idx].astype('uint8'))\n",
    "        plt.axis('off')\n",
    "        if i == 0:\n",
    "            plt.title(cls)\n",
    "plt.show()"
   ],
   "metadata": {
    "collapsed": false,
    "pycharm": {
     "name": "#%%\n"
    }
   }
  },
  {
   "cell_type": "markdown",
   "source": [
    "**Prepare the dataset**"
   ],
   "metadata": {
    "collapsed": false
   }
  },
  {
   "cell_type": "code",
   "execution_count": 9,
   "outputs": [
    {
     "name": "stdout",
     "output_type": "stream",
     "text": [
      "Training data shape:  (12665, 28, 28, 1)\n",
      "Training labels shape:  (12665,)\n",
      "Test data shape:  (2115, 28, 28, 1)\n",
      "Test labels shape:  (2115,)\n"
     ]
    }
   ],
   "source": [
    "# x\n",
    "x_train=normalize_dataset(x_train,IMG_ROWS, IMG_COLS,CHANNELS)\n",
    "x_test=normalize_dataset(x_test,IMG_ROWS, IMG_COLS,CHANNELS)\n",
    "\n",
    "# As a sanity check, we print out the size of the training and test data.\n",
    "print('Training data shape: ', x_train.shape)\n",
    "print('Training labels shape: ', y_train.shape)\n",
    "print('Test data shape: ', x_test.shape)\n",
    "print('Test labels shape: ', y_test.shape)"
   ],
   "metadata": {
    "collapsed": false,
    "pycharm": {
     "name": "#%%\n"
    }
   }
  },
  {
   "cell_type": "markdown",
   "source": [
    "**Extract Features**"
   ],
   "metadata": {
    "collapsed": false
   }
  },
  {
   "cell_type": "code",
   "execution_count": 10,
   "outputs": [
    {
     "name": "stdout",
     "output_type": "stream",
     "text": [
      "train_features: (12665, 2048)\n",
      "test_features: (2115, 2048)\n"
     ]
    }
   ],
   "source": [
    "# create feature extractor\n",
    "feature_extractor=FeatureExtractor(x_train,y_train,\n",
    "                                   BATCH_SIZE,EPOCHS,\n",
    "                                   x_test,y_test)\n",
    "# fit to data\n",
    "feature_extractor.fit()\n",
    "\n",
    "# extract features\n",
    "train_features=feature_extractor.extract_features(x_train)\n",
    "test_features=feature_extractor.extract_features(x_test)\n",
    "\n",
    "# reshape\n",
    "train_features=train_features.reshape(train_features.shape[0],2*2*512)\n",
    "test_features=test_features.reshape(test_features.shape[0],2*2*512)\n",
    "\n",
    "print(\"train_features:\",train_features.shape)\n",
    "print(\"test_features:\",test_features.shape)"
   ],
   "metadata": {
    "collapsed": false,
    "pycharm": {
     "name": "#%%\n"
    }
   }
  },
  {
   "cell_type": "markdown",
   "source": [
    "**Classify on different k values**"
   ],
   "metadata": {
    "collapsed": false
   }
  },
  {
   "cell_type": "code",
   "execution_count": 11,
   "outputs": [
    {
     "name": "stdout",
     "output_type": "stream",
     "text": [
      "k=1 Got 2113 / 2115 correct => accuracy: 99.905437\n",
      "k=3 Got 2114 / 2115 correct => accuracy: 99.952719\n",
      "k=5 Got 2114 / 2115 correct => accuracy: 99.952719\n",
      "k=7 Got 2114 / 2115 correct => accuracy: 99.952719\n",
      "k=10 Got 2114 / 2115 correct => accuracy: 99.952719\n",
      "k=20 Got 2114 / 2115 correct => accuracy: 99.952719\n",
      "k=50 Got 2114 / 2115 correct => accuracy: 99.952719\n",
      "k=100 Got 2114 / 2115 correct => accuracy: 99.952719\n"
     ]
    }
   ],
   "source": [
    "for k in [1, 3, 5, 7,10, 20, 50, 100]:\n",
    "    classifier = KNearestNeighbor()\n",
    "    classifier.train(train_features, y_train)\n",
    "    y_test_pred = classifier.predict(test_features, k=k)\n",
    "\n",
    "    # Compute and display the accuracy\n",
    "    num_correct = np.sum(y_test_pred == y_test)\n",
    "    accuracy = 100*(float(num_correct) / test_features.shape[0])\n",
    "\n",
    "    print('k=%d Got %d / %d correct => accuracy: %f' % (k,num_correct, test_features.shape[0], accuracy))"
   ],
   "metadata": {
    "collapsed": false,
    "pycharm": {
     "name": "#%%\n"
    }
   }
  }
 ],
 "metadata": {
  "kernelspec": {
   "display_name": "Python 3",
   "language": "python",
   "name": "python3"
  },
  "language_info": {
   "codemirror_mode": {
    "name": "ipython",
    "version": 2
   },
   "file_extension": ".py",
   "mimetype": "text/x-python",
   "name": "python",
   "nbconvert_exporter": "python",
   "pygments_lexer": "ipython2",
   "version": "2.7.6"
  }
 },
 "nbformat": 4,
 "nbformat_minor": 0
}